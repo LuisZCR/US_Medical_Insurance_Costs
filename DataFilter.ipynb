{
 "cells": [
  {
   "cell_type": "markdown",
   "id": "91d24f1a",
   "metadata": {},
   "source": [
    "# This file is in charge of filtering the data\n",
    "First we show the user that the data was imported"
   ]
  },
  {
   "cell_type": "code",
   "execution_count": 9,
   "id": "931e4a72",
   "metadata": {},
   "outputs": [
    {
     "name": "stdout",
     "output_type": "stream",
     "text": [
      "Successfully imported\n"
     ]
    }
   ],
   "source": [
    "print ('Successfully imported')"
   ]
  },
  {
   "cell_type": "markdown",
   "id": "9bc7390a",
   "metadata": {},
   "source": [
    "**Class** and **methods** are created to make a correct data filtering"
   ]
  },
  {
   "cell_type": "code",
   "execution_count": 22,
   "id": "2b257ff8",
   "metadata": {},
   "outputs": [],
   "source": [
    "#Made by Luis Zúñiga Araya\n",
    "\n",
    "#Class creation\n",
    "class DataFilter:\n",
    "    \n",
    "    def __init__(self,data):\n",
    "        self.data = data\n",
    "   \n",
    "    #method that filter the data by age\n",
    "    def filter_age(self,age):\n",
    "        ##Create a new dataframe with only rows matching the specific age\n",
    "        self.age = age\n",
    "        self.data = self.data[self.data[\"age\"] == self.age]\n",
    "        print(f'Data for patients with {self.age} years')\n",
    "        return self.data\n",
    "    \n",
    "    #method that filter the data by sex\n",
    "    def filter_sex(self,sex):\n",
    "        ##Create a new dataframe with only rows matching the specific sex\n",
    "        self.sex = sex\n",
    "        self.data = self.data[self.data[\"sex\"] == self.sex]\n",
    "        print(f'Data for {self.sex} patients ')\n",
    "        return self.data\n",
    "   \n",
    "    #method that filter the data by sex\n",
    "    def filter_sex(self,sex):\n",
    "        ##Create a new dataframe with only rows matching the specific sex\n",
    "        self.sex = sex\n",
    "        self.data = self.data[self.data[\"sex\"] == self.sex]\n",
    "        print(f'Data for {self.sex} patients ')\n",
    "        return self.data\n",
    "\n",
    "\n",
    "    #method that filter the data by number of childrens\n",
    "    def filter_children_n(self,children):\n",
    "        ##Create a new dataframe with only rows matching the specific number of childrens\n",
    "        self.children = children\n",
    "        self.data = self.data[self.data[\"children\"] == self.children]\n",
    "        print(f'Data for patients with {self.age} children')\n",
    "        return self.data\n",
    "\n",
    "    #method that filter the data by non-smoking or smoking patients\n",
    "    def filter_smoker(self,smoker):\n",
    "        ##Create a new dataframe with only rows matching the specific number of childrens\n",
    "        self.smoker = smoker\n",
    "        self.data = self.data[self.data[\"smoker\"] == self.smoker]\n",
    "        if self.smoker == 'no':\n",
    "            print('Data for non smoking patients')\n",
    "        else:\n",
    "            print('Data for smoking patients')\n",
    "        return self.data\n",
    "    \n",
    "    #method that filter the data by region\n",
    "    def filter_region(self,region):\n",
    "        ##Create a new dataframe with only rows matching the inputed region\n",
    "        self.region = region\n",
    "        self.data = self.data[self.data[\"region\"] == self.region]\n",
    "        print(f'Data for patients of {self.age} region')\n",
    "        return self.data\n",
    "    \n",
    "    def info(self):\n",
    "        ## return some values that will be important at the moment of the data analysis\n",
    "        \n",
    "        self.qty_indv = len(self.data['age'])\n",
    "        print('The ammount of patients at the study are', self.qty_indv)\n",
    "        \n",
    "        #Check the amount of females and males\n",
    "        self.total_sex = self.data['sex'].value_counts()\n",
    "        print('Amount of male patients: ', self.total_sex[0])\n",
    "        print('Amount of female patients: ', self.total_sex[1])\n",
    "        \n",
    "        #Check the average age for each sex\n",
    "        self.total_age = self.data.groupby(['sex'])['age'].sum()\n",
    "        self.avg_male_age = self.total_age[0]/self.total_sex[0]\n",
    "        self.avg_female_age = self.total_age[1]/self.total_sex[1]\n",
    "        print('Average age for males of the data is: ', self.avg_male_age)\n",
    "        print('Average age for females of the data is: ', self.avg_female_age)\n",
    "        \n",
    "        #Check the total bmi for each sex\n",
    "        self.total_bmi = self.data.groupby(['sex'])['bmi'].sum()\n",
    "        self.avg_male_bmi = self.total_bmi[0]/self.total_sex[0]\n",
    "        print('Average BMI for males is', self.avg_male_bmi)\n",
    "        self.avg_female_bmi = self.total_bmi[1]/self.total_sex[1]\n",
    "        print('Average BMI for females is', self.avg_female_bmi)\n",
    "        #Check which sex has a higher BMI\n",
    "        if self.avg_male_bmi > self.avg_female_bmi:\n",
    "            print('On this data BMI on males tends to be higher than for females')\n",
    "        else:\n",
    "            print('On this data BMI on females tends to be higher than for males')\n",
    "            \n",
    "        #Check the amount of nonsmoking and smoking patients\n",
    "        self.total_smokers = self.data['smoker'].value_counts()\n",
    "        print('The number of non-smoking patients is: ', self.total_smokers[0])\n",
    "        print('The number of non-smoking patients is: ', self.total_smokers[1])\n",
    "        \n",
    "        #Check the number of patients per region\n",
    "        self.per_region = self.data['region'].value_counts()\n",
    "        print(f'The number of patients per region is: {self.per_region[0]} southeast, {self.per_region[1]} southwest, {self.per_region[2]} northwest, {self.per_region[3]} northeast')\n",
    "        "
   ]
  }
 ],
 "metadata": {
  "kernelspec": {
   "display_name": "Python 3 (ipykernel)",
   "language": "python",
   "name": "python3"
  },
  "language_info": {
   "codemirror_mode": {
    "name": "ipython",
    "version": 3
   },
   "file_extension": ".py",
   "mimetype": "text/x-python",
   "name": "python",
   "nbconvert_exporter": "python",
   "pygments_lexer": "ipython3",
   "version": "3.11.5"
  }
 },
 "nbformat": 4,
 "nbformat_minor": 5
}
